{
 "cells": [
  {
   "cell_type": "code",
   "execution_count": 39,
   "id": "fed2f488-20cb-49ce-966c-3016c9bdb7a6",
   "metadata": {},
   "outputs": [],
   "source": [
    "secs_per_min = 60"
   ]
  },
  {
   "cell_type": "markdown",
   "id": "dffdefb7-2f86-4398-9c2b-8b37883bff7d",
   "metadata": {},
   "source": [
    "##Seconds per hour: 3600"
   ]
  },
  {
   "cell_type": "code",
   "execution_count": 41,
   "id": "6392a07b-8669-4b6a-a08a-47d0c86d5b75",
   "metadata": {},
   "outputs": [
    {
     "name": "stdout",
     "output_type": "stream",
     "text": [
      "3600\n"
     ]
    }
   ],
   "source": [
    "\n",
    "seconds_per_hour = secs_per_min * 60\n",
    "print(secs_in_hour)"
   ]
  },
  {
   "cell_type": "markdown",
   "id": "1b2a65be-23ec-490d-ae3e-017fd9d77bb0",
   "metadata": {},
   "source": [
    "##Seconds per day: 86400"
   ]
  },
  {
   "cell_type": "code",
   "execution_count": 43,
   "id": "63a269e5-5d75-4e39-83a2-4fbe7d1dd32a",
   "metadata": {},
   "outputs": [
    {
     "name": "stdout",
     "output_type": "stream",
     "text": [
      "86400\n"
     ]
    }
   ],
   "source": [
    "\n",
    "seconds_per_day = seconds_per_hour * 24\n",
    "print(seconds_per_day)"
   ]
  },
  {
   "cell_type": "code",
   "execution_count": 45,
   "id": "861ef38e-c3c8-458e-a056-2cc10efe6bac",
   "metadata": {},
   "outputs": [
    {
     "name": "stdout",
     "output_type": "stream",
     "text": [
      "24.0\n"
     ]
    }
   ],
   "source": [
    "print(seconds_per_day/seconds_per_hour)"
   ]
  },
  {
   "cell_type": "code",
   "execution_count": 47,
   "id": "4e2a7d70-289c-4e47-8ff1-fb68057a3948",
   "metadata": {},
   "outputs": [
    {
     "name": "stdout",
     "output_type": "stream",
     "text": [
      "24\n"
     ]
    }
   ],
   "source": [
    "print(seconds_per_day//seconds_per_hour)"
   ]
  },
  {
   "cell_type": "markdown",
   "id": "ea108457-30f0-4bb3-a06d-be47dff05237",
   "metadata": {},
   "source": [
    "##Same 24h without the floating point"
   ]
  }
 ],
 "metadata": {
  "kernelspec": {
   "display_name": "Python 3 (ipykernel)",
   "language": "python",
   "name": "python3"
  },
  "language_info": {
   "codemirror_mode": {
    "name": "ipython",
    "version": 3
   },
   "file_extension": ".py",
   "mimetype": "text/x-python",
   "name": "python",
   "nbconvert_exporter": "python",
   "pygments_lexer": "ipython3",
   "version": "3.11.7"
  }
 },
 "nbformat": 4,
 "nbformat_minor": 5
}
